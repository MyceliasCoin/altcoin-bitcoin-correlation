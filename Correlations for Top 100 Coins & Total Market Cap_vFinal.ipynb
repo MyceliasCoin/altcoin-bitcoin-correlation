{
 "cells": [
  {
   "cell_type": "code",
   "execution_count": 1,
   "metadata": {},
   "outputs": [],
   "source": [
    "#---Step 0: Import necessary libraries---\n",
    "\n",
    "# Use coinmarketcappy to get historical data on total market cap https://pypi.org/project/coinmarketcappy/\n",
    "import coinmarketcappy as cmc\n",
    "from cryptocmd import CmcScraper\n",
    "import pandas as pd \n",
    "import matplotlib.pyplot as plt\n",
    "import pylab as pl\n",
    "import seaborn as sns\n",
    "import csv\n",
    "% matplotlib inline\n",
    "\n",
    "# Plot styles\n",
    "plt.style.use('seaborn-poster')\n",
    "plt.style.use('fivethirtyeight')\n",
    "plt.rcParams['axes.edgecolor'] = '#ffffff'\n",
    "plt.rcParams['axes.facecolor'] = '#ffffff'\n",
    "plt.rcParams['figure.facecolor'] = '#ffffff'\n",
    "plt.rcParams['patch.edgecolor'] = '#ffffff'\n",
    "plt.rcParams['patch.facecolor'] = '#ffffff'\n",
    "plt.rcParams['savefig.edgecolor'] = '#ffffff'\n",
    "plt.rcParams['savefig.facecolor'] = '#ffffff'\n",
    "plt.rcParams['xtick.labelsize'] = 12\n",
    "plt.rcParams['ytick.labelsize'] = 12"
   ]
  },
  {
   "cell_type": "code",
   "execution_count": 2,
   "metadata": {},
   "outputs": [],
   "source": [
    "#---Step 1: Generate Daily Total Market Capitalization---\n",
    "\n",
    "# Generate total market cap (including Bitcoin)\n",
    "market_cap = cmc.total_market_cap(exclude_btc=False)\n",
    "\n",
    "# Create dictionary for holding dates and market cap\n",
    "market_cap_dict = {\"Date\":[], \"Market Cap\": []}\n",
    "\n",
    "# Loop through values and populate dictionary\n",
    "for value in market_cap['market_cap_by_available_supply']:\n",
    "    market_cap_dict['Date'].append(value[0])\n",
    "    market_cap_dict['Market Cap'].append(value[1])\n",
    "\n",
    "# Pass dictionary into dataframe, clean up date format, and set date as index\n",
    "market_cap_df = pd.DataFrame(market_cap_dict)\n",
    "market_cap_df[\"Date\"] = pd.to_datetime(market_cap_df[\"Date\"]).dt.date\n",
    "market_cap_df = market_cap_df.set_index(\"Date\")"
   ]
  },
  {
   "cell_type": "code",
   "execution_count": 3,
   "metadata": {},
   "outputs": [
    {
     "name": "stderr",
     "output_type": "stream",
     "text": [
      "C:\\Users\\cheon\\Anaconda3\\lib\\site-packages\\IPython\\core\\interactiveshell.py:2785: DtypeWarning: Columns (2,3,4,5) have mixed types. Specify dtype option on import or set low_memory=False.\n",
      "  interactivity=interactivity, compiler=compiler, result=result)\n"
     ]
    }
   ],
   "source": [
    "#---Step 2: Generate Daily Market Capitalization by Coin---\n",
    "\n",
    "# Read in CSV file containing historical data for every coin on CMC\n",
    "# CSV file is generated using cryptomarketcap-historical-prices python scraper\n",
    "df = pd.read_csv('/Users/cheon/HistoricalCoinData.csv')\n",
    "df['Close**'] = pd.to_numeric(df['Close**'], errors='coerce')\n",
    "df['Market Cap'] = pd.to_numeric(df['Market Cap'].str.replace(',',''), errors='coerce')\n",
    "df['Date'] = pd.to_datetime(df['Date'].str.replace('No data was found for the selected time period.',''), errors='coerce')\n",
    "\n",
    "# Pivot dataframe table to display date as index and coins as column headers\n",
    "# Only display data after February 1st, 2018\n",
    "df_pivot = df[df['Date'] >= '2018-02-01'].pivot(index='Date', columns='Coin', values='Market Cap').sort_index()"
   ]
  },
  {
   "cell_type": "code",
   "execution_count": 4,
   "metadata": {},
   "outputs": [],
   "source": [
    "#---Step 3: Include Coins with at Least 120 Days of Historical Data---\n",
    "\n",
    "# Create table for existing coins sorted by market cap (coins for which we have data today)\n",
    "current_date = \"2018-08-15\"\n",
    "marketcap_coins = pd.DataFrame(df[df[\"Date\"]==current_date].set_index(\"Coin\")[\"Market Cap\"]).sort_values(by=\"Market Cap\", ascending=False)\n",
    "\n",
    "# Create list of coin names that have >=120 days of data\n",
    "longer_than_120_coins = []\n",
    "\n",
    "for coin in df_pivot.count().index:\n",
    "    if df_pivot.count()[coin] > 120:\n",
    "        longer_than_120_coins.append(coin)"
   ]
  },
  {
   "cell_type": "code",
   "execution_count": 5,
   "metadata": {},
   "outputs": [],
   "source": [
    "#---Step 4: Filter Top 100 Coins with at Least 120 Days of Historical Data Based on Market Cap---\n",
    "\n",
    "# List of coins names and associated market cap based on having at least 120 days of data\n",
    "marketcap_coins_longer_120 = marketcap_coins[marketcap_coins.index.isin(longer_than_120_coins)]\n",
    "\n",
    "# Create list of top 100 coin names with at least 120 days worth of data\n",
    "top_100_coins = []\n",
    "\n",
    "for i in range(0,100):\n",
    "    top_100_coins.append(marketcap_coins_longer_120.index[i])"
   ]
  },
  {
   "cell_type": "code",
   "execution_count": 6,
   "metadata": {},
   "outputs": [],
   "source": [
    "#---Step 5: Find Pearson Correlation Coefficient by Coin---\n",
    "\n",
    "# Function to get correlation coefficient between coin and Bitcoin\n",
    "def calc_market_cap_coin_BTC_corr(coin, df1):\n",
    "    \n",
    "    # Generate dataframe\n",
    "    temp_df = pd.DataFrame(df1)\n",
    "    \n",
    "    # Calculate correlation between specific coin's market cap and Bitcoin market cap\n",
    "    return temp_df.corr()['bitcoin'][coin]\n",
    "    \n",
    "# Call function to generate dictionary of coin names and associated Pearson coefficients\n",
    "df_dict_BTC = {}\n",
    "\n",
    "for coin in top_100_coins:\n",
    "    df_dict_BTC[coin] = calc_market_cap_coin_BTC_corr(coin, df_pivot)"
   ]
  },
  {
   "cell_type": "code",
   "execution_count": 7,
   "metadata": {},
   "outputs": [
    {
     "name": "stderr",
     "output_type": "stream",
     "text": [
      "C:\\Users\\cheon\\Anaconda3\\lib\\site-packages\\matplotlib\\axes\\_axes.py:6462: UserWarning: The 'normed' kwarg is deprecated, and has been replaced by the 'density' kwarg.\n",
      "  warnings.warn(\"The 'normed' kwarg is deprecated, and has been \"\n"
     ]
    },
    {
     "data": {
      "text/plain": [
       "[Text(0,0.5,'Density'), Text(0.5,0,'Correlation with Bitcoin')]"
      ]
     },
     "execution_count": 7,
     "metadata": {},
     "output_type": "execute_result"
    },
    {
     "data": {
      "image/png": "[encoded data removed]",
      "text/plain": [
       "<Figure size 432x288 with 1 Axes>"
      ]
     },
     "metadata": {},
     "output_type": "display_data"
    }
   ],
   "source": [
    "#---Step 6: Output Density Histogram Based on Correlation Coefficients---\n",
    "\n",
    "#Correlations DF\n",
    "corr_to_BTC = pd.DataFrame({'coins': df_dict_BTC}).sort_values('coins')\n",
    "\n",
    "#Seaborn Distplot\n",
    "ax = sns.distplot(corr_to_BTC['coins'], hist=True, kde=True, \n",
    "             bins=int(200/5), color = 'darkblue', \n",
    "             hist_kws={'edgecolor':'black'},\n",
    "             kde_kws={'linewidth': 4})\n",
    "\n",
    "#Graph titles and axes labels\n",
    "plt.title('Correlation between the Top 100 Coins and Bitcoin')\n",
    "ax.set(xlabel='Correlation with Bitcoin', ylabel='Density')"
   ]
  }
 ],
 "metadata": {
  "kernelspec": {
   "display_name": "Python 3",
   "language": "python",
   "name": "python3"
  },
  "language_info": {
   "codemirror_mode": {
    "name": "ipython",
    "version": 3
   },
   "file_extension": ".py",
   "mimetype": "text/x-python",
   "name": "python",
   "nbconvert_exporter": "python",
   "pygments_lexer": "ipython3",
   "version": "3.6.5"
  }
 },
 "nbformat": 4,
 "nbformat_minor": 2
}
